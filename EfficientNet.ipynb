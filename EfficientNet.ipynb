{
 "cells": [
  {
   "cell_type": "markdown",
   "id": "25b808d6",
   "metadata": {},
   "source": [
    "# EfficientNet Implementation"
   ]
  },
  {
   "cell_type": "code",
   "execution_count": 1,
   "id": "42b90262",
   "metadata": {},
   "outputs": [],
   "source": [
    "import torch\n",
    "import torch.nn as nn\n",
    "from math import ceil"
   ]
  },
  {
   "cell_type": "code",
   "execution_count": 2,
   "id": "5d2ada4d",
   "metadata": {},
   "outputs": [],
   "source": [
    "base_model = [\n",
    "    # expand_ratio, channels, repeats, stride, kernel_size\n",
    "    [1, 16, 1, 1, 3],\n",
    "    [6, 24, 2, 2, 3],\n",
    "    [6, 40, 2, 2, 5],\n",
    "    [6, 80, 3, 2, 3],\n",
    "    [6, 112, 3, 1, 5],\n",
    "    [6, 192, 4, 2, 5],\n",
    "    [6, 320, 1, 1, 3],\n",
    "]\n",
    "\n",
    "phi_values = {\n",
    "    # tuple of: (phi_value, resolution, drop_rate)\n",
    "    'b0': (0, 224, 0.2),\n",
    "    'b1': (0.5, 240, 0.2),\n",
    "    'b2': (1, 260, 0.3),\n",
    "    'b3': (2, 300, 0.3),\n",
    "    'b4': (3, 380, 0.4),\n",
    "    'b5': (4, 456, 0.4),\n",
    "    'b6': (5, 528, 0.5),\n",
    "    'b7': (6, 600, 0.5),\n",
    "}"
   ]
  },
  {
   "cell_type": "code",
   "execution_count": 3,
   "id": "760f5939",
   "metadata": {},
   "outputs": [],
   "source": [
    "class CNNBlock(nn.Module):\n",
    "    def __init__(self, in_channels, out_channels, kernel_size, stride, padding, groups=1):\n",
    "        super(CNNBlock, self).__init__()\n",
    "        self.cnn = nn.Conv2d(\n",
    "            in_channels,\n",
    "            out_channels,\n",
    "            kernel_size,\n",
    "            stride,\n",
    "            padding,\n",
    "            groups=groups,\n",
    "            bias=False\n",
    "        )\n",
    "        self.bn = nn.BatchNorm2d(out_channels)\n",
    "        self.silu = nn.SiLU()\n",
    "        \n",
    "    def forward(self, x):\n",
    "        return self.silu(self.bn(self.cnn(x)))"
   ]
  },
  {
   "cell_type": "code",
   "execution_count": 4,
   "id": "1575fd0a",
   "metadata": {},
   "outputs": [],
   "source": [
    "class SqueezeExcitation(nn.Module):\n",
    "    def __init__(self, in_channels, reduced_dim):\n",
    "        super(SqueezeExcitation, self).__init__()\n",
    "        self.se = nn.Sequential(\n",
    "                nn.AdaptiveAvgPool2d(1), # C x H x W -> C x 1 x 1\n",
    "                nn.Conv2D(in_channels, reduced_dim, 1),\n",
    "                nn.SiLU(),\n",
    "                nn.Conv2D(reduced_dim, in_channels, 1),\n",
    "                nn.Sigmoid(),\n",
    "        )\n",
    "        \n",
    "    def foward(self, x):\n",
    "        return x * self.se(x)"
   ]
  },
  {
   "cell_type": "code",
   "execution_count": 7,
   "id": "48e3085a",
   "metadata": {},
   "outputs": [],
   "source": [
    "class InvertedResidualBlock(nn.Module):\n",
    "    def __init__(self, in_channels, out_channels, kernel_size, stride, padding, expand_ratio,\n",
    "                 reduction=4, # squeeze excitation\n",
    "                 survival_prob=0.8 # for stochastic depth\n",
    "                ):\n",
    "        super(InvertedResidualBlock, self).__init__()\n",
    "        self.use_residual = in_channels == out_channels and stride == 1\n",
    "        hidden_dim = in_channels * expand_ratio\n",
    "        self.expand = in_channels != hidden_dim\n",
    "        reduced_dim = int(in_channels / reduction)\n",
    "        \n",
    "        if self.expand:\n",
    "            self.expand_conv = CNNBLock(\n",
    "                in_channels, hidden_dim, kernel_size=3, stride=1, padding=1\n",
    "            )\n",
    "        self.conv = nn.Sequential(\n",
    "            CNNBlock(\n",
    "                hidden_dim, hidden_dim, kernel_size, stride, padding, groups=hidden_dim,\n",
    "            ),\n",
    "            SqueezeExcitation(hidden_dim, reduced_dim),\n",
    "            nn.Conv2d(hidden_dim, out_channels, 1, bias=False),\n",
    "            nn.BatchNorm2d(out_channels),\n",
    "        )\n",
    "    \n",
    "    def stochastic_depth(self, x):\n",
    "        if not self.training:\n",
    "            return x\n",
    "        \n",
    "        binary_tensor = torch.rand(x.shape[0], 1, 1, 1, device=x.device) < self.survival_prob\n",
    "        return torch.div(x, self.survival_prob) * binary_tensor\n",
    "    \n",
    "    def foward(self, inputs):\n",
    "        x = self.expand_conv(inputs) if self.expand else inputs\n",
    "        "
   ]
  },
  {
   "cell_type": "code",
   "execution_count": 8,
   "id": "575c4f87",
   "metadata": {},
   "outputs": [],
   "source": [
    "class EfficientNet(nn.Module):\n",
    "    pass"
   ]
  },
  {
   "cell_type": "code",
   "execution_count": null,
   "id": "186d78af",
   "metadata": {},
   "outputs": [],
   "source": []
  }
 ],
 "metadata": {
  "kernelspec": {
   "display_name": "Python 3 (ipykernel)",
   "language": "python",
   "name": "python3"
  },
  "language_info": {
   "codemirror_mode": {
    "name": "ipython",
    "version": 3
   },
   "file_extension": ".py",
   "mimetype": "text/x-python",
   "name": "python",
   "nbconvert_exporter": "python",
   "pygments_lexer": "ipython3",
   "version": "3.9.15"
  }
 },
 "nbformat": 4,
 "nbformat_minor": 5
}
