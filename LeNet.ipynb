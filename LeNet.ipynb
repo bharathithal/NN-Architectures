{
 "cells": [
  {
   "cell_type": "markdown",
   "id": "4229b3d3",
   "metadata": {},
   "source": [
    "# LeNet Implementation"
   ]
  },
  {
   "cell_type": "markdown",
   "id": "7fd5d989",
   "metadata": {},
   "source": [
    "1. Input -> 32x32 image\n",
    "2. C1 : Feature maps (6 filters, 5x5 kernels, stride 1, padding 0):32x32 -> 28x28\n",
    "3. Avg Pooling (kernel 2, stride 2) : 28x28x6 -> 14x14x6\n",
    "4. C2 : Feature maps (16 filters, 5*5 kernel, stride 1, padding 0) : 14x14x6 -> 10x10x16\n",
    "5. Avg Pooling (kernel 2, stride 2) : 10x10x16 -> 5x5x16\n",
    "6. C3: Feature maps (120 filters, 5x5 kernels, stride 1, padding 0) : 5x5x16 -> 1x1x120\n",
    "7. Fully connected layer : 1x1x120  -> 84x1\n",
    "8. Softmax : 84x1 -> 10x1"
   ]
  },
  {
   "cell_type": "code",
   "execution_count": 1,
   "id": "9be7d3b8",
   "metadata": {},
   "outputs": [],
   "source": [
    "import torch\n",
    "import torch.nn as nn"
   ]
  },
  {
   "cell_type": "code",
   "execution_count": 2,
   "id": "8557b84a",
   "metadata": {},
   "outputs": [],
   "source": [
    "class LeNet(nn.Module):\n",
    "    def __init__(self):\n",
    "        super(LeNet, self).__init__()\n",
    "        self.relu = nn.ReLU()\n",
    "        self.pool = nn.AvgPool2d(kernel_size=(2,2), stride=(2, 2))\n",
    "        self.conv1 = nn.Conv2d(in_channels=1, out_channels=6, kernel_size=(5, 5), stride=(1, 1), padding=(0,0))\n",
    "        self.conv2 = nn.Conv2d(in_channels=6, out_channels=16,  kernel_size=(5, 5))\n",
    "        self.conv3 = nn.Conv2d(in_channels=16, out_channels=120, kernel_size=(5, 5))\n",
    "        self.linear1 = nn.Linear(120,84)\n",
    "        self.linear2 = nn.Linear(84, 10)\n",
    "\n",
    "    def forward(self, x):\n",
    "        x = self.relu(self.conv1(x))\n",
    "        x = self.pool(x)\n",
    "        x = self.relu(self.conv2(x))\n",
    "        x = self.pool(x)\n",
    "        x = x = self.relu(self.conv3(x)) # num_examples x 120 x 1 x 1\n",
    "        # num_examples x 120 x 1 x 1 -> num_examples x 120\n",
    "        x = torch.squeeze(x)\n",
    "        x = self.relu(self.linear1(x))\n",
    "        x = self.linear2(x)\n",
    "        return x"
   ]
  },
  {
   "cell_type": "code",
   "execution_count": 3,
   "id": "85952850",
   "metadata": {},
   "outputs": [
    {
     "name": "stdout",
     "output_type": "stream",
     "text": [
      "torch.Size([64, 10])\n"
     ]
    }
   ],
   "source": [
    "x = torch.randn(64, 1, 32, 32)\n",
    "model = LeNet()\n",
    "print(model(x).shape)"
   ]
  },
  {
   "cell_type": "code",
   "execution_count": null,
   "id": "c605d985",
   "metadata": {},
   "outputs": [],
   "source": []
  }
 ],
 "metadata": {
  "kernelspec": {
   "display_name": "Python 3 (ipykernel)",
   "language": "python",
   "name": "python3"
  },
  "language_info": {
   "codemirror_mode": {
    "name": "ipython",
    "version": 3
   },
   "file_extension": ".py",
   "mimetype": "text/x-python",
   "name": "python",
   "nbconvert_exporter": "python",
   "pygments_lexer": "ipython3",
   "version": "3.9.15"
  }
 },
 "nbformat": 4,
 "nbformat_minor": 5
}
